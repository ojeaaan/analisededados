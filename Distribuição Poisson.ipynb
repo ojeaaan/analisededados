{
 "cells": [
  {
   "cell_type": "code",
   "execution_count": 2,
   "metadata": {},
   "outputs": [],
   "source": [
    "import pandas as pd\n",
    "import numpy as np\n",
    "from scipy.stats import poisson"
   ]
  },
  {
   "attachments": {},
   "cell_type": "markdown",
   "metadata": {},
   "source": [
    "## <font color=white>Distribuição Poisson</font>\n",
    "***"
   ]
  },
  {
   "attachments": {},
   "cell_type": "markdown",
   "metadata": {},
   "source": [
    "É empregada para descrever o número de ocorrências em um intervalo de tempo ou espaço específico. Os eventos são caracterizados pela possibilidade de contagem dos sucessos, mas a não possibilidade de contagem dos fracassos.\n",
    "\n",
    "Como exemplos de processos onde podemos aplicar a distribuição de Poisson temos a determinação do número de clientes que entram em uma loja em determinada hora, o número de carros que chegam em um drive-thru de uma lanchonete na hora do almoço, a determinação do número de acidentes registrados em um trecho de estrada etc."
   ]
  },
  {
   "attachments": {},
   "cell_type": "markdown",
   "metadata": {},
   "source": [
    "Obs: Poisson consegue calcular o sucesso, mas é impossível calcular o fracasso, exemplos:\n",
    "\n",
    "**Temos 1 quilometro de estrada em que conseguimos contabilizar o número de buracos neste trecho, mas não podemos contar o número de não-buracos.**\n",
    "\n",
    "**Em uma hora eu consigo contabilizar contas pessoas entraram em um shopping, mas eu não consigo contar quantas pessoas não entraram**"
   ]
  },
  {
   "attachments": {},
   "cell_type": "markdown",
   "metadata": {},
   "source": [
    "# $$P(k) = \\frac{e^{-\\mu}(\\mu)^k}{k!}$$\n",
    "\n",
    "Onde:\n",
    "\n",
    "$e$ = constante cujo valor aproximado é 2,718281828459045\n",
    "\n",
    "$\\mu$ = representa o número médio de ocorrências em um determinado intervalo de tempo ou espaço\n",
    "\n",
    "$k$ = número de sucessos no intervalo desejado"
   ]
  },
  {
   "attachments": {},
   "cell_type": "markdown",
   "metadata": {},
   "source": [
    "### Experimento Poisson\n",
    "1. A probabilidade de uma ocorrência é a mesma em todo o intervalo observado.\n",
    "\n",
    "2. O número de ocorrências em determinado intervalo é independente do número de ocorrências em outros intervalos.\n",
    "\n",
    "3. A probabilidade de uma ocorrência é a mesma em intervalos de igual comprimento."
   ]
  },
  {
   "attachments": {},
   "cell_type": "markdown",
   "metadata": {},
   "source": [
    "### Média da distribuição Poisson"
   ]
  },
  {
   "attachments": {},
   "cell_type": "markdown",
   "metadata": {},
   "source": [
    "# $$\\mu$$"
   ]
  },
  {
   "attachments": {},
   "cell_type": "markdown",
   "metadata": {},
   "source": [
    "### Desvio padrão da distribuição Poisson"
   ]
  },
  {
   "attachments": {},
   "cell_type": "markdown",
   "metadata": {},
   "source": [
    "# $$\\sigma = \\sqrt{\\mu}$$"
   ]
  },
  {
   "attachments": {},
   "cell_type": "markdown",
   "metadata": {},
   "source": [
    "### Constante"
   ]
  },
  {
   "attachments": {},
   "cell_type": "markdown",
   "metadata": {},
   "source": [
    "# $$e$$"
   ]
  },
  {
   "cell_type": "code",
   "execution_count": 3,
   "metadata": {},
   "outputs": [
    {
     "data": {
      "text/plain": [
       "2.718281828459045"
      ]
     },
     "execution_count": 3,
     "metadata": {},
     "output_type": "execute_result"
    }
   ],
   "source": [
    "np.e"
   ]
  },
  {
   "attachments": {},
   "cell_type": "markdown",
   "metadata": {},
   "source": [
    "---"
   ]
  },
  {
   "attachments": {},
   "cell_type": "markdown",
   "metadata": {},
   "source": [
    "### Delivery\n",
    "Um restaurante recebe em média **20 pedidos por hora**. Qual a chance de que, em determinada hora escolhida ao acaso, o restaurante receba **15 pedidos**?\n",
    "\n",
    "*Obs: ele consegue contar quantos pedidos ele recebe por hora, mas não consegue contar quantos pedidos ele não recebe*"
   ]
  },
  {
   "attachments": {},
   "cell_type": "markdown",
   "metadata": {},
   "source": [
    "#### Qual o número médio de ocorrências por hora ($\\mu$)?"
   ]
  },
  {
   "cell_type": "code",
   "execution_count": 4,
   "metadata": {},
   "outputs": [],
   "source": [
    "media = 20\n",
    "#20 pedidos por hora μ"
   ]
  },
  {
   "attachments": {},
   "cell_type": "markdown",
   "metadata": {},
   "source": [
    "#### Qual o número de ocorrências que queremos obter no período ($k$)?"
   ]
  },
  {
   "cell_type": "code",
   "execution_count": 5,
   "metadata": {},
   "outputs": [],
   "source": [
    "k = 15\n",
    "#15 pedidos"
   ]
  },
  {
   "attachments": {},
   "cell_type": "markdown",
   "metadata": {},
   "source": [
    "#### Solução 1"
   ]
  },
  {
   "cell_type": "code",
   "execution_count": 6,
   "metadata": {},
   "outputs": [
    {
     "data": {
      "text/plain": [
       "0.0516488535317584"
      ]
     },
     "execution_count": 6,
     "metadata": {},
     "output_type": "execute_result"
    }
   ],
   "source": [
    "probabilidade = ((np.e ** (-media)) * (media ** k)) / (np.math.factorial(k))\n",
    "probabilidade"
   ]
  },
  {
   "attachments": {},
   "cell_type": "markdown",
   "metadata": {},
   "source": [
    "#### Solução 2"
   ]
  },
  {
   "cell_type": "code",
   "execution_count": 7,
   "metadata": {},
   "outputs": [],
   "source": [
    "from scipy.stats import poisson"
   ]
  },
  {
   "cell_type": "code",
   "execution_count": 8,
   "metadata": {},
   "outputs": [
    {
     "data": {
      "text/plain": [
       "0.05164885353175814"
      ]
     },
     "execution_count": 8,
     "metadata": {},
     "output_type": "execute_result"
    }
   ],
   "source": [
    "probabilidade = poisson.pmf(k,media)\n",
    "probabilidade"
   ]
  },
  {
   "attachments": {},
   "cell_type": "markdown",
   "metadata": {},
   "source": [
    "---"
   ]
  },
  {
   "attachments": {},
   "cell_type": "markdown",
   "metadata": {},
   "source": [
    "### Clientes\n",
    "O número médio de clientes que entram em uma padaria por hora é igual a 20. Obtenha a probabilidade de, na próxima hora, entrarem exatamente 25 clientes.?\n",
    "\n",
    "*Obs: ele consegue contar quantos clientes entram na padaria, mas não consegue contar quantos passam na calçada*"
   ]
  },
  {
   "cell_type": "code",
   "execution_count": 9,
   "metadata": {},
   "outputs": [
    {
     "data": {
      "text/plain": [
       "0.04458764910826764"
      ]
     },
     "execution_count": 9,
     "metadata": {},
     "output_type": "execute_result"
    }
   ],
   "source": [
    "media = 20   # Media por hora de entrada de cliente\n",
    "k = 25       # Ele quer saber qual a chance de entrar 25\n",
    "\n",
    "probabilidade = poisson.pmf(k,media)\n",
    "probabilidade"
   ]
  },
  {
   "attachments": {},
   "cell_type": "markdown",
   "metadata": {},
   "source": [
    "---"
   ]
  },
  {
   "attachments": {},
   "cell_type": "markdown",
   "metadata": {},
   "source": [
    "### Posto de gasolina\n",
    "A experiência passada indica que um número médio de 6 clientes por hora param para colocar gasolina numa bomba."
   ]
  },
  {
   "attachments": {},
   "cell_type": "markdown",
   "metadata": {},
   "source": [
    "1. Qual é a probabilidade de 3 clientes pararem qualquer hora?"
   ]
  },
  {
   "cell_type": "code",
   "execution_count": 10,
   "metadata": {},
   "outputs": [
    {
     "data": {
      "text/plain": [
       "0.08923507835998894"
      ]
     },
     "execution_count": 10,
     "metadata": {},
     "output_type": "execute_result"
    }
   ],
   "source": [
    "media = 6   # Media por hora de abastecimento\n",
    "k = 3       # Ele quer saber qual a chance de apenas 3 abastecerem\n",
    "\n",
    "probabilidade = poisson.pmf(k,media)\n",
    "probabilidade"
   ]
  },
  {
   "attachments": {},
   "cell_type": "markdown",
   "metadata": {},
   "source": [
    "2. Qual é a probabilidade de 3 clientes ou menos pararem em qualquer hora?"
   ]
  },
  {
   "cell_type": "code",
   "execution_count": 11,
   "metadata": {},
   "outputs": [
    {
     "data": {
      "text/plain": [
       "0.15120388277664784"
      ]
     },
     "execution_count": 11,
     "metadata": {},
     "output_type": "execute_result"
    }
   ],
   "source": [
    "media = 6   # Media por hora de abastecimento\n",
    "k = 3       # Ele quer saber qual a chance de apenas 3 abastecerem\n",
    "\n",
    "#CDF ele faz o cálculo acumulado\n",
    "probabilidade = poisson.cdf(k,media)\n",
    "probabilidade"
   ]
  },
  {
   "cell_type": "code",
   "execution_count": 12,
   "metadata": {},
   "outputs": [
    {
     "name": "stdout",
     "output_type": "stream",
     "text": [
      "Probabilidade de 0: 0.00248\n",
      "Probabilidade de 1: 0.01487\n",
      "Probabilidade de 2: 0.04462\n",
      "Probabilidade de 3: 0.08924\n",
      "Solução: 0.15120\n"
     ]
    }
   ],
   "source": [
    "media = 6   # Media por hora de abastecimento\n",
    "\n",
    "#Chance de 0 abastecerem\n",
    "prob0 = poisson.pmf(0,media)\n",
    "prob1 = poisson.pmf(1,media)\n",
    "prob2 = poisson.pmf(2,media)\n",
    "prob3 = poisson.pmf(3,media)\n",
    "print(f\"Probabilidade de 0: {prob0:.5f}\")\n",
    "print(f\"Probabilidade de 1: {prob1:.5f}\")\n",
    "print(f\"Probabilidade de 2: {prob2:.5f}\")\n",
    "print(f\"Probabilidade de 3: {prob3:.5f}\")\n",
    "probabilidade = prob0+prob1+prob2+prob3\n",
    "print(f\"Solução: {probabilidade:.5f}\")"
   ]
  },
  {
   "attachments": {},
   "cell_type": "markdown",
   "metadata": {},
   "source": [
    "3. Qual é o valor esperado, a média, e o desvio padrão para esta distribuição?"
   ]
  },
  {
   "attachments": {},
   "cell_type": "markdown",
   "metadata": {},
   "source": [
    "        Utilizamos a fómula então:\n",
    "$$\\sigma = \\sqrt{\\mu}$$"
   ]
  },
  {
   "cell_type": "code",
   "execution_count": 13,
   "metadata": {},
   "outputs": [
    {
     "data": {
      "text/plain": [
       "2.449489742783178"
      ]
     },
     "execution_count": 13,
     "metadata": {},
     "output_type": "execute_result"
    }
   ],
   "source": [
    "media = 6  #Valor da média\n",
    "np.sqrt(media) #Resultado do desvio padrão"
   ]
  },
  {
   "attachments": {},
   "cell_type": "markdown",
   "metadata": {},
   "source": [
    "### Produção\n",
    "Um processo de produção produz 10 itens defeituosos por hora. Encontre a probabilidade que 4 ou menos itens sejam defeituosos numa retirada aleatória por hora"
   ]
  },
  {
   "cell_type": "code",
   "execution_count": 14,
   "metadata": {},
   "outputs": [
    {
     "data": {
      "text/plain": [
       "0.029252688076961124"
      ]
     },
     "execution_count": 14,
     "metadata": {},
     "output_type": "execute_result"
    }
   ],
   "source": [
    "media = 10   # Media por hora de abastecimento\n",
    "k = 4       # Ele quer saber qual a chance de apenas 3 abastecerem\n",
    "\n",
    "#CDF ele faz o cálculo acumulado, logo soma a chance de ser 0 itens defeituosos + 1 item + 2 + 3 + 4\n",
    "probabilidade = poisson.cdf(k,media)\n",
    "probabilidade"
   ]
  },
  {
   "attachments": {},
   "cell_type": "markdown",
   "metadata": {},
   "source": [
    "Qual a aproximação normal da Poisson da distribuição?"
   ]
  },
  {
   "cell_type": "code",
   "execution_count": 15,
   "metadata": {},
   "outputs": [
    {
     "data": {
      "text/plain": [
       "3.1622776601683795"
      ]
     },
     "execution_count": 15,
     "metadata": {},
     "output_type": "execute_result"
    }
   ],
   "source": [
    "media = 10  #Valor da média\n",
    "np.sqrt(media) #Resultado do desvio padrão"
   ]
  },
  {
   "attachments": {},
   "cell_type": "markdown",
   "metadata": {},
   "source": [
    "### Passageiros\n",
    "Considere que passageiros chegam a um aeroporto a uma taxa média de 3 passageiros por segundo. Pede-se para determinar, com uma boa aproximação, qual a probabilidade (P) de que não mais de dois passageiros chegarão ao aeroporto em um intervalo de um segundo"
   ]
  },
  {
   "cell_type": "code",
   "execution_count": 16,
   "metadata": {},
   "outputs": [
    {
     "data": {
      "text/plain": [
       "0.42319008112684364"
      ]
     },
     "execution_count": 16,
     "metadata": {},
     "output_type": "execute_result"
    }
   ],
   "source": [
    "media = 3   # Media de passageiros\n",
    "k = 2       # Ele quer saber qual a chance de até 2 chegarem em 1 segundo\n",
    "\n",
    "#CDF ele faz o cálculo acumulado\n",
    "probabilidade = poisson.cdf(k,media)\n",
    "probabilidade"
   ]
  },
  {
   "attachments": {},
   "cell_type": "markdown",
   "metadata": {},
   "source": [
    "### PABx\n",
    "Uma entrada telefônica tipo PABx, recebe uma média de 5 chamados por minuto.\n",
    "Qual a probabilidade deste PABx não receber nenhua chamada durante um minuto?"
   ]
  },
  {
   "cell_type": "code",
   "execution_count": 17,
   "metadata": {},
   "outputs": [
    {
     "data": {
      "text/plain": [
       "0.006737946999085467"
      ]
     },
     "execution_count": 17,
     "metadata": {},
     "output_type": "execute_result"
    }
   ],
   "source": [
    "media = 5   # chamadas por minuto\n",
    "k = 0       # Ele quer saber qual a chance de nenhuma chamada\n",
    "\n",
    "#pmf ele pega o cálculo exato\n",
    "probabilidade = poisson.pmf(k,media)\n",
    "probabilidade"
   ]
  },
  {
   "attachments": {},
   "cell_type": "markdown",
   "metadata": {},
   "source": [
    "### Polícia\n",
    "Um departamento de polícia recebe em média 5 solicitações por hora. Qual a probabilidade de receber 2 ligações na próxima hora?"
   ]
  },
  {
   "cell_type": "code",
   "execution_count": 18,
   "metadata": {},
   "outputs": [
    {
     "data": {
      "text/plain": [
       "0.08422433748856832"
      ]
     },
     "execution_count": 18,
     "metadata": {},
     "output_type": "execute_result"
    }
   ],
   "source": [
    "media = 5   # solicitações por hora\n",
    "k = 2       # Chance de ligações na próxima hora\n",
    "\n",
    "#pmf ele pega o cálculo exato\n",
    "probabilidade = poisson.pmf(k,media)\n",
    "probabilidade"
   ]
  },
  {
   "attachments": {},
   "cell_type": "markdown",
   "metadata": {},
   "source": [
    "### Ilha\n",
    "O governo de uma ilha informou que durante 20 anos, 196 turistas faleceram"
   ]
  },
  {
   "attachments": {},
   "cell_type": "markdown",
   "metadata": {},
   "source": [
    "1. Qual a média do número de turistas que faleceram por ano?"
   ]
  },
  {
   "cell_type": "code",
   "execution_count": 19,
   "metadata": {},
   "outputs": [
    {
     "data": {
      "text/plain": [
       "9.8"
      ]
     },
     "execution_count": 19,
     "metadata": {},
     "output_type": "execute_result"
    }
   ],
   "source": [
    "anos = 20\n",
    "turistas = 196\n",
    "resultado = turistas/anos\n",
    "resultado"
   ]
  },
  {
   "attachments": {},
   "cell_type": "markdown",
   "metadata": {},
   "source": [
    "2. Qual a probabilidade de nenhum turista falecer no próximo ano?"
   ]
  },
  {
   "cell_type": "code",
   "execution_count": 20,
   "metadata": {},
   "outputs": [
    {
     "name": "stdout",
     "output_type": "stream",
     "text": [
      "Solução: 0.00006\n"
     ]
    }
   ],
   "source": [
    "media = 9.8     # turistas morrem por ano\n",
    "k = 0           # Chance de morrerem\n",
    "\n",
    "#pmf ele pega o cálculo exato\n",
    "probabilidade = poisson.pmf(k,media)\n",
    "print(f\"Solução: {probabilidade:.5f}\")"
   ]
  },
  {
   "attachments": {},
   "cell_type": "markdown",
   "metadata": {},
   "source": [
    "3. Qual a probabilidade de 4 turistas falecerem no próximo ano?"
   ]
  },
  {
   "cell_type": "code",
   "execution_count": 21,
   "metadata": {},
   "outputs": [
    {
     "data": {
      "text/plain": [
       "0.021311162390547558"
      ]
     },
     "execution_count": 21,
     "metadata": {},
     "output_type": "execute_result"
    }
   ],
   "source": [
    "media = 9.8     # turistas morrem por ano\n",
    "k = 4           # Chance de morrerem\n",
    "\n",
    "#pmf ele pega o cálculo exato\n",
    "probabilidade = poisson.pmf(k,media)\n",
    "probabilidade"
   ]
  },
  {
   "attachments": {},
   "cell_type": "markdown",
   "metadata": {},
   "source": [
    "### Partícula\n",
    "Algum evento, diz que a chegada de uma partícula estranha do espaço num balcão em alguma fazenda do interior de São Paulo, ocorre em média 2 vezes por hora. Mas há variações dessa média. Qual é a probabilidade de que em uma determinada hora três estranhas partículas sejam gravadas?"
   ]
  },
  {
   "cell_type": "code",
   "execution_count": 22,
   "metadata": {},
   "outputs": [
    {
     "data": {
      "text/plain": [
       "0.18044704431548356"
      ]
     },
     "execution_count": 22,
     "metadata": {},
     "output_type": "execute_result"
    }
   ],
   "source": [
    "media = 2     # turistas morrem por ano\n",
    "k = 3           # Chance de morrerem\n",
    "\n",
    "#pmf ele pega o cálculo exato\n",
    "probabilidade = poisson.pmf(k,media)\n",
    "probabilidade"
   ]
  },
  {
   "attachments": {},
   "cell_type": "markdown",
   "metadata": {},
   "source": [
    "### Produtos\n",
    "\n",
    "O número médio de produtos defeituosos produzidos em uma fábrica em um dia é 21. Qual é a probabilidade de que em um determinado dia, tenha exatamente 12 produtos defeituosos?"
   ]
  },
  {
   "cell_type": "code",
   "execution_count": 24,
   "metadata": {},
   "outputs": [
    {
     "data": {
      "text/plain": [
       "0.011644221355917445"
      ]
     },
     "execution_count": 24,
     "metadata": {},
     "output_type": "execute_result"
    }
   ],
   "source": [
    "media = 21     # turistas morrem por ano\n",
    "k = 12           # Chance de morrerem\n",
    "\n",
    "#pmf ele pega o cálculo exato\n",
    "probabilidade = poisson.pmf(k,media)\n",
    "probabilidade"
   ]
  },
  {
   "attachments": {},
   "cell_type": "markdown",
   "metadata": {},
   "source": [
    "### Motores\n",
    "\n",
    "Uma empresa fabrica motores elétricos. A probabilidade de um motor elétrico estar com defeito é de 0,01. Qual é a probabilidade de que em uma amostra de 300 motores elétricos contenha exatamente 5 motores defeituosos?"
   ]
  },
  {
   "cell_type": "code",
   "execution_count": 32,
   "metadata": {},
   "outputs": [],
   "source": [
    "#Primeiro pegamos a média de 300 motores\n",
    "motores = 300\n",
    "erro_probabilidade = 0.01\n",
    "#Declaro em uma variavel a média de motores errados\n",
    "chance = erro_probabilidade*motores"
   ]
  },
  {
   "cell_type": "code",
   "execution_count": 33,
   "metadata": {},
   "outputs": [
    {
     "data": {
      "text/plain": [
       "0.10081881344492458"
      ]
     },
     "execution_count": 33,
     "metadata": {},
     "output_type": "execute_result"
    }
   ],
   "source": [
    "k = 5   #chance de ter 5 motores com defeito\n",
    "\n",
    "#pmf ele pega o cálculo exato\n",
    "probabilidade = poisson.pmf(k,chance)\n",
    "probabilidade"
   ]
  },
  {
   "attachments": {},
   "cell_type": "markdown",
   "metadata": {},
   "source": [
    "### Energia Elétrica\n",
    "\n",
    "Se as falhas de energia elétrica  ocorrer de acordo com uma distribuição de Poisson, com uma média de 3 falhas a cada vinte semanas. Calcular a probabilidade de que não haverá mais do que uma falha durante uma semana particular."
   ]
  },
  {
   "cell_type": "code",
   "execution_count": 37,
   "metadata": {},
   "outputs": [
    {
     "data": {
      "text/plain": [
       "0.15"
      ]
     },
     "execution_count": 37,
     "metadata": {},
     "output_type": "execute_result"
    }
   ],
   "source": [
    "#Primeiro pegamos a média de 1 semana\n",
    "falhas = 3\n",
    "semanas = 20\n",
    "#Declaro em uma variavel a média de acontecer falhas em uma semana\n",
    "chance = falhas/semanas\n",
    "chance"
   ]
  },
  {
   "cell_type": "code",
   "execution_count": 47,
   "metadata": {},
   "outputs": [
    {
     "data": {
      "text/plain": [
       "0.9898141728888165"
      ]
     },
     "execution_count": 47,
     "metadata": {},
     "output_type": "execute_result"
    }
   ],
   "source": [
    "k = 1   #até 1 um\n",
    "\n",
    "#o cdf acumula então tá somando o 0 e está somando o 1 também\n",
    "probabilidade = poisson.cdf(k,chance)\n",
    "probabilidade"
   ]
  },
  {
   "attachments": {},
   "cell_type": "markdown",
   "metadata": {},
   "source": [
    "*Explicando com PMF*"
   ]
  },
  {
   "cell_type": "code",
   "execution_count": 48,
   "metadata": {},
   "outputs": [
    {
     "data": {
      "text/plain": [
       "0.9898141728888165"
      ]
     },
     "execution_count": 48,
     "metadata": {},
     "output_type": "execute_result"
    }
   ],
   "source": [
    "#o pmf pega o cálculo exato, como ele quer no máximo um então vamos somar\n",
    "probabilidade1 = poisson.pmf(0,chance)\n",
    "probabilidade2 = poisson.pmf(1,chance)\n",
    "resultado = probabilidade1 + probabilidade2\n",
    "resultado"
   ]
  },
  {
   "attachments": {},
   "cell_type": "markdown",
   "metadata": {},
   "source": [
    "*Outra forma*"
   ]
  },
  {
   "cell_type": "code",
   "execution_count": 49,
   "metadata": {},
   "outputs": [
    {
     "data": {
      "text/plain": [
       "0.9898141728888165"
      ]
     },
     "execution_count": 49,
     "metadata": {},
     "output_type": "execute_result"
    }
   ],
   "source": [
    "#o pmf pega o cálculo exato, como ele quer no máximo um então vamos somar\n",
    "resultado = poisson.pmf([0,1],chance).sum()\n",
    "resultado"
   ]
  },
  {
   "attachments": {},
   "cell_type": "markdown",
   "metadata": {},
   "source": [
    "http://www.bertolo.pro.br/FinEst/Estatistica/ExerciciosResolvidosPoisson.pdf\n",
    "\n",
    "http://factosfera.blogspot.com/2015/12/tudo-sobre-distribuicao-de-poisson-e.html"
   ]
  }
 ],
 "metadata": {
  "kernelspec": {
   "display_name": "Python 3",
   "language": "python",
   "name": "python3"
  },
  "language_info": {
   "codemirror_mode": {
    "name": "ipython",
    "version": 3
   },
   "file_extension": ".py",
   "mimetype": "text/x-python",
   "name": "python",
   "nbconvert_exporter": "python",
   "pygments_lexer": "ipython3",
   "version": "3.11.2"
  },
  "orig_nbformat": 4
 },
 "nbformat": 4,
 "nbformat_minor": 2
}
