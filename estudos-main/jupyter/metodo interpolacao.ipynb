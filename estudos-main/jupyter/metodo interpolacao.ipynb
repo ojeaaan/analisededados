{
 "cells": [
  {
   "cell_type": "code",
   "execution_count": 1,
   "metadata": {},
   "outputs": [],
   "source": [
    "import pandas as pd"
   ]
  },
  {
   "attachments": {},
   "cell_type": "markdown",
   "metadata": {},
   "source": [
    "## Criar uma Series"
   ]
  },
  {
   "cell_type": "code",
   "execution_count": 2,
   "metadata": {},
   "outputs": [],
   "source": [
    "data = [0.5, None, None, 0.52, 0.54, None, None, 0.59, 0.6, None, 0.7]\n",
    "s = pd.Series(data)\n"
   ]
  },
  {
   "cell_type": "code",
   "execution_count": 3,
   "metadata": {},
   "outputs": [
    {
     "data": {
      "text/plain": [
       "0     0.50\n",
       "1      NaN\n",
       "2      NaN\n",
       "3     0.52\n",
       "4     0.54\n",
       "5      NaN\n",
       "6      NaN\n",
       "7     0.59\n",
       "8     0.60\n",
       "9      NaN\n",
       "10    0.70\n",
       "dtype: float64"
      ]
     },
     "execution_count": 3,
     "metadata": {},
     "output_type": "execute_result"
    }
   ],
   "source": [
    "s"
   ]
  },
  {
   "cell_type": "code",
   "execution_count": 4,
   "metadata": {},
   "outputs": [
    {
     "data": {
      "text/plain": [
       "0     0.50\n",
       "1     0.00\n",
       "2     0.00\n",
       "3     0.52\n",
       "4     0.54\n",
       "5     0.00\n",
       "6     0.00\n",
       "7     0.59\n",
       "8     0.60\n",
       "9     0.00\n",
       "10    0.70\n",
       "dtype: float64"
      ]
     },
     "execution_count": 4,
     "metadata": {},
     "output_type": "execute_result"
    }
   ],
   "source": [
    "s.fillna(0)"
   ]
  },
  {
   "cell_type": "code",
   "execution_count": 5,
   "metadata": {},
   "outputs": [
    {
     "data": {
      "text/plain": [
       "0      0.5\n",
       "1     mano\n",
       "2     mano\n",
       "3     0.52\n",
       "4     0.54\n",
       "5     mano\n",
       "6     mano\n",
       "7     0.59\n",
       "8      0.6\n",
       "9     mano\n",
       "10     0.7\n",
       "dtype: object"
      ]
     },
     "execution_count": 5,
     "metadata": {},
     "output_type": "execute_result"
    }
   ],
   "source": [
    "s.fillna('mano')"
   ]
  },
  {
   "attachments": {},
   "cell_type": "markdown",
   "metadata": {},
   "source": [
    "**Aqui temos as váriaveis dos metodos nulos, por exemplo o FFILL ele repete o que está em cima, sendo ideal para data**"
   ]
  },
  {
   "cell_type": "code",
   "execution_count": null,
   "metadata": {},
   "outputs": [],
   "source": []
  },
  {
   "cell_type": "code",
   "execution_count": 6,
   "metadata": {},
   "outputs": [
    {
     "data": {
      "text/plain": [
       "0     0.50\n",
       "1     0.50\n",
       "2     0.50\n",
       "3     0.52\n",
       "4     0.54\n",
       "5     0.54\n",
       "6     0.54\n",
       "7     0.59\n",
       "8     0.60\n",
       "9     0.60\n",
       "10    0.70\n",
       "dtype: float64"
      ]
     },
     "execution_count": 6,
     "metadata": {},
     "output_type": "execute_result"
    }
   ],
   "source": [
    "s.fillna(method='ffill')\n"
   ]
  },
  {
   "attachments": {},
   "cell_type": "markdown",
   "metadata": {},
   "source": [
    "**BFILL faz o oposto**"
   ]
  },
  {
   "cell_type": "code",
   "execution_count": 7,
   "metadata": {},
   "outputs": [
    {
     "data": {
      "text/plain": [
       "0     0.50\n",
       "1     0.52\n",
       "2     0.52\n",
       "3     0.52\n",
       "4     0.54\n",
       "5     0.59\n",
       "6     0.59\n",
       "7     0.59\n",
       "8     0.60\n",
       "9     0.70\n",
       "10    0.70\n",
       "dtype: float64"
      ]
     },
     "execution_count": 7,
     "metadata": {},
     "output_type": "execute_result"
    }
   ],
   "source": [
    "s.fillna(method='bfill')"
   ]
  },
  {
   "attachments": {},
   "cell_type": "markdown",
   "metadata": {},
   "source": [
    "**Podemos também colocar no lugar dos nulos as médias**"
   ]
  },
  {
   "cell_type": "code",
   "execution_count": 8,
   "metadata": {},
   "outputs": [
    {
     "data": {
      "text/plain": [
       "0                                                   0.5\n",
       "1     <bound method NDFrame._add_numeric_operations....\n",
       "2     <bound method NDFrame._add_numeric_operations....\n",
       "3                                                  0.52\n",
       "4                                                  0.54\n",
       "5     <bound method NDFrame._add_numeric_operations....\n",
       "6     <bound method NDFrame._add_numeric_operations....\n",
       "7                                                  0.59\n",
       "8                                                   0.6\n",
       "9     <bound method NDFrame._add_numeric_operations....\n",
       "10                                                  0.7\n",
       "dtype: object"
      ]
     },
     "execution_count": 8,
     "metadata": {},
     "output_type": "execute_result"
    }
   ],
   "source": [
    "s.fillna(s.mean)"
   ]
  },
  {
   "cell_type": "code",
   "execution_count": 9,
   "metadata": {},
   "outputs": [
    {
     "data": {
      "text/plain": [
       "0     0.500\n",
       "1     0.575\n",
       "2     0.575\n",
       "3     0.520\n",
       "4     0.540\n",
       "5     0.575\n",
       "6     0.575\n",
       "7     0.590\n",
       "8     0.600\n",
       "9     0.575\n",
       "10    0.700\n",
       "dtype: float64"
      ]
     },
     "execution_count": 9,
     "metadata": {},
     "output_type": "execute_result"
    }
   ],
   "source": [
    "s.fillna(s.mean())"
   ]
  },
  {
   "attachments": {},
   "cell_type": "markdown",
   "metadata": {},
   "source": [
    "## Tratamento interessante com os dados"
   ]
  },
  {
   "attachments": {},
   "cell_type": "markdown",
   "metadata": {},
   "source": [
    "Aqui replicamos apenas uma vez o mesmo valor para o de baixo"
   ]
  },
  {
   "cell_type": "code",
   "execution_count": 10,
   "metadata": {},
   "outputs": [
    {
     "data": {
      "text/plain": [
       "0     0.50\n",
       "1     0.50\n",
       "2      NaN\n",
       "3     0.52\n",
       "4     0.54\n",
       "5     0.54\n",
       "6      NaN\n",
       "7     0.59\n",
       "8     0.60\n",
       "9     0.60\n",
       "10    0.70\n",
       "dtype: float64"
      ]
     },
     "execution_count": 10,
     "metadata": {},
     "output_type": "execute_result"
    }
   ],
   "source": [
    "s1 = s.fillna(method = 'ffill', limit = 1)\n",
    "s1"
   ]
  },
  {
   "attachments": {},
   "cell_type": "markdown",
   "metadata": {},
   "source": [
    "Aqui replicamos o mesmo valor para o de cima"
   ]
  },
  {
   "cell_type": "code",
   "execution_count": 11,
   "metadata": {},
   "outputs": [
    {
     "data": {
      "text/plain": [
       "0     0.50\n",
       "1     0.50\n",
       "2     0.52\n",
       "3     0.52\n",
       "4     0.54\n",
       "5     0.54\n",
       "6     0.59\n",
       "7     0.59\n",
       "8     0.60\n",
       "9     0.60\n",
       "10    0.70\n",
       "dtype: float64"
      ]
     },
     "execution_count": 11,
     "metadata": {},
     "output_type": "execute_result"
    }
   ],
   "source": [
    "s1.fillna(method = 'bfill', limit = 1)"
   ]
  },
  {
   "cell_type": "code",
   "execution_count": 12,
   "metadata": {},
   "outputs": [
    {
     "data": {
      "text/html": [
       "<div>\n",
       "<style scoped>\n",
       "    .dataframe tbody tr th:only-of-type {\n",
       "        vertical-align: middle;\n",
       "    }\n",
       "\n",
       "    .dataframe tbody tr th {\n",
       "        vertical-align: top;\n",
       "    }\n",
       "\n",
       "    .dataframe thead th {\n",
       "        text-align: right;\n",
       "    }\n",
       "</style>\n",
       "<table border=\"1\" class=\"dataframe\">\n",
       "  <thead>\n",
       "    <tr style=\"text-align: right;\">\n",
       "      <th></th>\n",
       "      <th>Corredor</th>\n",
       "      <th>Melhor Tempo</th>\n",
       "    </tr>\n",
       "  </thead>\n",
       "  <tbody>\n",
       "    <tr>\n",
       "      <th>0</th>\n",
       "      <td>Marcos</td>\n",
       "      <td>9.62</td>\n",
       "    </tr>\n",
       "    <tr>\n",
       "      <th>1</th>\n",
       "      <td>Pedro</td>\n",
       "      <td>NaN</td>\n",
       "    </tr>\n",
       "    <tr>\n",
       "      <th>2</th>\n",
       "      <td>João</td>\n",
       "      <td>9.69</td>\n",
       "    </tr>\n",
       "    <tr>\n",
       "      <th>3</th>\n",
       "      <td>Beto</td>\n",
       "      <td>9.72</td>\n",
       "    </tr>\n",
       "    <tr>\n",
       "      <th>4</th>\n",
       "      <td>Sandro</td>\n",
       "      <td>NaN</td>\n",
       "    </tr>\n",
       "    <tr>\n",
       "      <th>5</th>\n",
       "      <td>Denis</td>\n",
       "      <td>9.69</td>\n",
       "    </tr>\n",
       "    <tr>\n",
       "      <th>6</th>\n",
       "      <td>Ary</td>\n",
       "      <td>NaN</td>\n",
       "    </tr>\n",
       "    <tr>\n",
       "      <th>7</th>\n",
       "      <td>Carlos</td>\n",
       "      <td>9.74</td>\n",
       "    </tr>\n",
       "  </tbody>\n",
       "</table>\n",
       "</div>"
      ],
      "text/plain": [
       "  Corredor  Melhor Tempo\n",
       "0   Marcos          9.62\n",
       "1    Pedro           NaN\n",
       "2     João          9.69\n",
       "3     Beto          9.72\n",
       "4   Sandro           NaN\n",
       "5    Denis          9.69\n",
       "6      Ary           NaN\n",
       "7   Carlos          9.74"
      ]
     },
     "execution_count": 12,
     "metadata": {},
     "output_type": "execute_result"
    }
   ],
   "source": [
    "atletas = pd.DataFrame([['Marcos', 9.62], ['Pedro', None], ['João', 9.69], \n",
    "                        ['Beto', 9.72], ['Sandro', None], ['Denis', 9.69], \n",
    "                        ['Ary', None], ['Carlos', 9.74]], \n",
    "                        columns = ['Corredor', 'Melhor Tempo'])\n",
    "atletas"
   ]
  }
 ],
 "metadata": {
  "kernelspec": {
   "display_name": "Python 3",
   "language": "python",
   "name": "python3"
  },
  "language_info": {
   "codemirror_mode": {
    "name": "ipython",
    "version": 3
   },
   "file_extension": ".py",
   "mimetype": "text/x-python",
   "name": "python",
   "nbconvert_exporter": "python",
   "pygments_lexer": "ipython3",
   "version": "3.11.2"
  },
  "orig_nbformat": 4
 },
 "nbformat": 4,
 "nbformat_minor": 2
}
